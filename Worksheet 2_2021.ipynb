{
 "cells": [
  {
   "cell_type": "markdown",
   "metadata": {
    "editable": false
   },
   "source": [
    "# Worksheet 2: Variable Types and Graphical Representation of Numerical Data#\n"
   ]
  },
  {
   "cell_type": "markdown",
   "metadata": {
    "editable": false
   },
   "source": [
    "## Objectives: ##\n",
    "To practice:\n",
    "* Identifying types of variables as being discrete numerical, continuous numerical,  or categorical.\n",
    "* Creating and interpretting graphical representations of numerical data. In particular:\n",
    "  * Creating a scatter plot\n",
    "  * Creating a histogram\n",
    "  * Creating a boxplot"
   ]
  },
  {
   "cell_type": "markdown",
   "metadata": {
    "editable": false
   },
   "source": [
    "## Instructions: ##\n",
    "* 1. Run the data loading function found in the tools section.\n",
    "* 2. Read the information at the beginning of each question carefully.\n",
    "* 3. Answer each part of each question by writing code in the code cell, or a sentence in a markdown cell as is appropriate."
   ]
  },
  {
   "cell_type": "markdown",
   "metadata": {
    "editable": false
   },
   "source": [
    "## Formulae: ##\n",
    "No formlae are required for this tutorial."
   ]
  },
  {
   "cell_type": "markdown",
   "metadata": {
    "editable": false
   },
   "source": [
    "## Tools: ##"
   ]
  },
  {
   "cell_type": "code",
   "execution_count": 1,
   "metadata": {
    "editable": false
   },
   "outputs": [],
   "source": [
    "census <- read.csv(\"census150.csv\",header=TRUE)"
   ]
  },
  {
   "cell_type": "markdown",
   "metadata": {
    "editable": false
   },
   "source": [
    "## Data Information: ##\n",
    "\n",
    "### Data Set: ###\n",
    "A small random sample of observations from the 2000 U.S. Census Data.\n",
    "#### Name: #### \n",
    "* `census` - observations from the 2000 U.S. Census Data.\n",
    "\n",
    "#### Variables: ####\n",
    "* `census_year` - Census Year.\n",
    "* `state_fips_code` - Name of state.\n",
    "* `total_family_income` - Total family income (in U.S. dollars).\n",
    "* `age` - Age.\n",
    "* `sex` - Sex with levels: Female and Male.\n",
    "* `race_general` - Race with levels: American Indian or Alaska Native, Black, Chinese, Japanese, Other Asian or Pacific Islander, Two major races, White and Other.\n",
    "* `marital_status` - Marital status with levels Divorced, Married/spouse absent, Married/spouse present, Never married/single, Separated and Widowed.\n",
    "* `total_personal_income` - Total personal income (in U.S. dollars).\n",
    "* `percent_family_income` - the percent of the family income earned by the participant, calculated by dividing the personal income by the family income (unless the family income is 0, then the value of this variable is set to 0) given as a percentage.\n"
   ]
  },
  {
   "cell_type": "markdown",
   "metadata": {
    "editable": false
   },
   "source": [
    "## Question 1. Examine the variables ##"
   ]
  },
  {
   "cell_type": "markdown",
   "metadata": {
    "editable": false
   },
   "source": [
    " For each of the following variables indicate whether it is a discrete numerical, continuous numerical, or categorical variable. <br>Briefly explain how you know.\n",
    "* a. state_fips_code\n",
    "* b. total_family_income\n",
    "* c. age\n",
    "* d. percent_family_income"
   ]
  },
  {
   "cell_type": "markdown",
   "metadata": {
    "editable": false
   },
   "source": [
    "### Answer 1a. ###"
   ]
  },
  {
   "cell_type": "markdown",
   "metadata": {},
   "source": [
    "My Answer here"
   ]
  },
  {
   "cell_type": "markdown",
   "metadata": {
    "editable": false
   },
   "source": [
    "### Answer 1b. ###"
   ]
  },
  {
   "cell_type": "markdown",
   "metadata": {},
   "source": [
    "Type a sentence to answer the question in this cell."
   ]
  },
  {
   "cell_type": "markdown",
   "metadata": {
    "editable": false
   },
   "source": [
    "### Answer 1c. ###"
   ]
  },
  {
   "cell_type": "markdown",
   "metadata": {},
   "source": [
    "Type a sentence to answer the question in this cell."
   ]
  },
  {
   "cell_type": "markdown",
   "metadata": {
    "editable": false
   },
   "source": [
    "### Answer 1d"
   ]
  },
  {
   "cell_type": "markdown",
   "metadata": {},
   "source": [
    "Type a sentence to answer the question in this cell."
   ]
  },
  {
   "cell_type": "markdown",
   "metadata": {
    "editable": false
   },
   "source": [
    "## Question 2. Create and interpret a scatter plot ##"
   ]
  },
  {
   "cell_type": "markdown",
   "metadata": {
    "editable": false
   },
   "source": [
    "Recall we use the `plot` command with two numerical variables to create a scatterplot.\n",
    "* a. Create a titled and labelled scatterplot for `age` and `percent_family_income`. Put age on the $x$-axis.\n",
    "* b. There is one point on the plot that stands out from the rest. Why does it stand out? If you were the researcher, what would you do about this particular value?\n",
    "* c. Describe the relationship between `age` and `percent_family_income` or explain why you do not think there is a relationship."
   ]
  },
  {
   "cell_type": "markdown",
   "metadata": {
    "editable": false
   },
   "source": [
    "### Answer 2a. ###"
   ]
  },
  {
   "cell_type": "code",
   "execution_count": null,
   "metadata": {},
   "outputs": [],
   "source": [
    "Enter R code in this cell to create the required graphical representation of data."
   ]
  },
  {
   "cell_type": "markdown",
   "metadata": {
    "editable": false
   },
   "source": [
    "### Answer 2b."
   ]
  },
  {
   "cell_type": "markdown",
   "metadata": {},
   "source": [
    "Type a sentence or two to answer the question in this cell."
   ]
  },
  {
   "cell_type": "markdown",
   "metadata": {
    "editable": false
   },
   "source": [
    "### Answer 2c. ###"
   ]
  },
  {
   "cell_type": "markdown",
   "metadata": {},
   "source": [
    "Type a sentence or two to answer the question in this cell."
   ]
  },
  {
   "cell_type": "markdown",
   "metadata": {
    "editable": false
   },
   "source": [
    "## Question 3. Create and interpret a histogram ##"
   ]
  },
  {
   "cell_type": "markdown",
   "metadata": {
    "editable": false
   },
   "source": [
    "The histogram command has the format `hist(` &lt;variable&gt; `,` &lt;options -see below&gt; `)`<br>\n",
    "Options appear in a comma delimited list:<br>\n",
    "`breaks = n` - where n is the number of bins (or number of bars/columns)<br>\n",
    "`main = \"title\"` - where title is the title for the histogram.\n",
    "* a. Create a titled histogram for the personal income of participants. Do NOT set the number of breaks.\n",
    "* b. Create a titled histogram for the personal income of participants. Use fewer breaks than the histogram created for part a.\n",
    "* c. Create a titled histogram for the personal income of participants. Use more breaks than the histogram created for part a.\n",
    "* d. Which of the histograms best depicts the data. Why did you choose that histogram?\n",
    "* e. Describe the histogram you chose in part d. Is it skewed left, symmetric, or skewed right? Is it unimodal, bimodal, or multimodal?"
   ]
  },
  {
   "cell_type": "markdown",
   "metadata": {
    "editable": false
   },
   "source": [
    "### Answer 3a."
   ]
  },
  {
   "cell_type": "code",
   "execution_count": null,
   "metadata": {},
   "outputs": [],
   "source": [
    "Enter R code in this cell to create the required graphical representation of data."
   ]
  },
  {
   "cell_type": "markdown",
   "metadata": {
    "editable": false
   },
   "source": [
    "### Answer 3b."
   ]
  },
  {
   "cell_type": "code",
   "execution_count": null,
   "metadata": {},
   "outputs": [],
   "source": [
    "Enter R code in this cell to create the required graphical representation of data."
   ]
  },
  {
   "cell_type": "markdown",
   "metadata": {
    "editable": false
   },
   "source": [
    "### Answer 3c."
   ]
  },
  {
   "cell_type": "code",
   "execution_count": null,
   "metadata": {},
   "outputs": [],
   "source": [
    "Enter R code in this cell to create the required graphical representation of data."
   ]
  },
  {
   "cell_type": "markdown",
   "metadata": {
    "editable": false
   },
   "source": [
    "### Answer 3d."
   ]
  },
  {
   "cell_type": "markdown",
   "metadata": {},
   "source": [
    "Type a sentence to answer the question in this cell."
   ]
  },
  {
   "cell_type": "markdown",
   "metadata": {
    "editable": false
   },
   "source": [
    "### Answer 3e."
   ]
  },
  {
   "cell_type": "markdown",
   "metadata": {},
   "source": [
    "Type a sentence to answer the question in this cell."
   ]
  },
  {
   "cell_type": "markdown",
   "metadata": {
    "editable": false
   },
   "source": [
    "## Question 4. Create a boxplot"
   ]
  },
  {
   "cell_type": "markdown",
   "metadata": {},
   "source": [
    "The boxplot command has the format `boxplot(` &lt;variable&gt; `)` or `boxplot(` &lt;variable&gt; `~` &lt;variable&gt; `)`<br>\n",
    "The first form will create one boxplot and the second will create side-by-side boxplots, one for each value of the second variable.\n",
    "* a. Create a boxplot for the personal income.\n",
    "* b. Based on the boxplot created for part a, what can you say about the values over $100,000.\n",
    "* c. Create side by side boxplots for the personal income of male and female respondents.\n",
    "* d. Based on the side by side boxplots created for part b, what can you say about the relationship between gender and personal income. <br>Use values depicted by the boxplot to support your conclusion. "
   ]
  },
  {
   "cell_type": "markdown",
   "metadata": {
    "editable": false
   },
   "source": [
    "### Answer 4a."
   ]
  },
  {
   "cell_type": "code",
   "execution_count": null,
   "metadata": {},
   "outputs": [],
   "source": [
    "Enter R code in this cell to create the required graphical representation of data."
   ]
  },
  {
   "cell_type": "code",
   "execution_count": 2,
   "metadata": {},
   "outputs": [
    {
     "data": {
      "image/png": "[encoded data removed]",
      "text/plain": [
       "plot without title"
      ]
     },
     "metadata": {
      "image/png": {
       "height": 420,
       "width": 420
      },
      "text/plain": {
       "height": 420,
       "width": 420
      }
     },
     "output_type": "display_data"
    }
   ],
   "source": [
    "boxplot(census$total_family_income)\n",
    "boxplot(census$total_family_income~census$sex))"
   ]
  },
  {
   "cell_type": "markdown",
   "metadata": {
    "editable": false
   },
   "source": [
    "### Answer 4b."
   ]
  },
  {
   "cell_type": "markdown",
   "metadata": {},
   "source": [
    "Type a sentence to answer the question in this cell."
   ]
  },
  {
   "cell_type": "markdown",
   "metadata": {
    "editable": false
   },
   "source": [
    "### Answer 4c."
   ]
  },
  {
   "cell_type": "code",
   "execution_count": 3,
   "metadata": {},
   "outputs": [
    {
     "data": {
      "image/png": "[encoded data removed]",
      "text/plain": [
       "plot without title"
      ]
     },
     "metadata": {
      "image/png": {
       "height": 420,
       "width": 420
      },
      "text/plain": {
       "height": 420,
       "width": 420
      }
     },
     "output_type": "display_data"
    }
   ],
   "source": [
    "boxplot(census$age~census$sex)"
   ]
  },
  {
   "cell_type": "code",
   "execution_count": null,
   "metadata": {},
   "outputs": [],
   "source": [
    "Enter R code in this cell to create the required graphical representation of data."
   ]
  },
  {
   "cell_type": "markdown",
   "metadata": {
    "editable": false
   },
   "source": [
    "## Answer 4d."
   ]
  },
  {
   "cell_type": "markdown",
   "metadata": {},
   "source": [
    "Type a short paragraph to answer the question in this cell."
   ]
  },
  {
   "cell_type": "markdown",
   "metadata": {
    "editable": false
   },
   "source": [
    "---\n",
    "---\n",
    "#### This tutorial is released under a Creative Commons Attribution-ShareAlike 3.0 Unported.\n",
    "\n",
    "This tutorial has been adapted from a lab that  was adapted for OpenIntro by Andrew Bray and Mine Çetinkaya-Rundel from a lab written by Mark Hansen of UCLA Statistics.\n",
    "\n",
    "---\n",
    "---"
   ]
  }
 ],
 "metadata": {
  "celltoolbar": "Edit Metadata",
  "kernelspec": {
   "display_name": "R",
   "language": "R",
   "name": "ir"
  },
  "language_info": {
   "codemirror_mode": "r",
   "file_extension": ".r",
   "mimetype": "text/x-r-source",
   "name": "R",
   "pygments_lexer": "r",
   "version": "3.6.2"
  }
 },
 "nbformat": 4,
 "nbformat_minor": 2
}
